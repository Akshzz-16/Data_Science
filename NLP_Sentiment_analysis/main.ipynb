{
 "cells": [
  {
   "cell_type": "markdown",
   "metadata": {},
   "source": [
    "#### IMPORT libraries"
   ]
  },
  {
   "cell_type": "code",
   "execution_count": 16,
   "metadata": {},
   "outputs": [],
   "source": [
    "import pandas as pd\n",
    "import numpy as np\n",
    "import matplotlib.pyplot as plt\n",
    "import seaborn as sns\n",
    "from nltk.corpus import stopwords\n",
    "from nltk.tokenize import word_tokenize\n",
    "from nltk.stem import WordNetLemmatizer\n",
    "from sklearn.model_selection import train_test_split\n",
    "from sklearn.feature_extraction.text import CountVectorizer\n",
    "from sklearn.naive_bayes import MultinomialNB\n",
    "from sklearn.metrics import accuracy_score, confusion_matrix, classification_report"
   ]
  },
  {
   "cell_type": "markdown",
   "metadata": {},
   "source": [
    "#### Load the Dataset"
   ]
  },
  {
   "cell_type": "code",
   "execution_count": 17,
   "metadata": {},
   "outputs": [
    {
     "name": "stdout",
     "output_type": "stream",
     "text": [
      "                                              review sentiment\n",
      "0  One of the other reviewers has mentioned that ...  positive\n",
      "1  A wonderful little production. <br /><br />The...  positive\n",
      "2  I thought this was a wonderful way to spend ti...  positive\n",
      "3  Basically there's a family where a little boy ...  negative\n",
      "4  Petter Mattei's \"Love in the Time of Money\" is...  positive\n"
     ]
    }
   ],
   "source": [
    "import pandas as pd\n",
    "\n",
    "# Load the IMDB dataset\n",
    "file_path = 'dataset.csv'  # Replace with the actual file path\n",
    "data = pd.read_csv(file_path)\n",
    "\n",
    "# Display the first few rows of the dataset\n",
    "print(data.head())\n"
   ]
  },
  {
   "cell_type": "markdown",
   "metadata": {},
   "source": [
    "#### Data Cleaning"
   ]
  },
  {
   "cell_type": "code",
   "execution_count": 18,
   "metadata": {},
   "outputs": [
    {
     "name": "stdout",
     "output_type": "stream",
     "text": [
      "Processing 0/50000...\n"
     ]
    },
    {
     "name": "stderr",
     "output_type": "stream",
     "text": [
      "[nltk_data] Downloading package punkt to\n",
      "[nltk_data]     C:\\Users\\akash\\AppData\\Roaming\\nltk_data...\n",
      "[nltk_data]   Package punkt is already up-to-date!\n",
      "[nltk_data] Downloading package stopwords to\n",
      "[nltk_data]     C:\\Users\\akash\\AppData\\Roaming\\nltk_data...\n",
      "[nltk_data]   Package stopwords is already up-to-date!\n",
      "[nltk_data] Downloading package punkt_tab to\n",
      "[nltk_data]     C:\\Users\\akash\\AppData\\Roaming\\nltk_data...\n",
      "[nltk_data]   Package punkt_tab is already up-to-date!\n",
      "C:\\Users\\akash\\AppData\\Local\\Temp\\ipykernel_15952\\3704531628.py:18: DeprecationWarning: 'count' is passed as positional argument\n",
      "  text = re.sub(r'[^a-zA-Z\\s]', '', text, re.I)\n"
     ]
    },
    {
     "name": "stdout",
     "output_type": "stream",
     "text": [
      "Processing 1000/50000...\n",
      "Processing 2000/50000...\n",
      "Processing 3000/50000...\n",
      "Processing 4000/50000...\n",
      "Processing 5000/50000...\n",
      "Processing 6000/50000...\n",
      "Processing 7000/50000...\n",
      "Processing 8000/50000...\n",
      "Processing 9000/50000...\n",
      "Processing 10000/50000...\n",
      "Processing 11000/50000...\n",
      "Processing 12000/50000...\n",
      "Processing 13000/50000...\n",
      "Processing 14000/50000...\n",
      "Processing 15000/50000...\n",
      "Processing 16000/50000...\n",
      "Processing 17000/50000...\n",
      "Processing 18000/50000...\n",
      "Processing 19000/50000...\n",
      "Processing 20000/50000...\n",
      "Processing 21000/50000...\n",
      "Processing 22000/50000...\n",
      "Processing 23000/50000...\n",
      "Processing 24000/50000...\n",
      "Processing 25000/50000...\n",
      "Processing 26000/50000...\n",
      "Processing 27000/50000...\n",
      "Processing 28000/50000...\n",
      "Processing 29000/50000...\n",
      "Processing 30000/50000...\n",
      "Processing 31000/50000...\n",
      "Processing 32000/50000...\n",
      "Processing 33000/50000...\n",
      "Processing 34000/50000...\n",
      "Processing 35000/50000...\n",
      "Processing 36000/50000...\n",
      "Processing 37000/50000...\n",
      "Processing 38000/50000...\n",
      "Processing 39000/50000...\n",
      "Processing 40000/50000...\n",
      "Processing 41000/50000...\n",
      "Processing 42000/50000...\n",
      "Processing 43000/50000...\n",
      "Processing 44000/50000...\n",
      "Processing 45000/50000...\n",
      "Processing 46000/50000...\n",
      "Processing 47000/50000...\n",
      "Processing 48000/50000...\n",
      "Processing 49000/50000...\n",
      "                                              review  \\\n",
      "0  One of the other reviewers has mentioned that ...   \n",
      "1  A wonderful little production. <br /><br />The...   \n",
      "2  I thought this was a wonderful way to spend ti...   \n",
      "3  Basically there's a family where a little boy ...   \n",
      "4  Petter Mattei's \"Love in the Time of Money\" is...   \n",
      "\n",
      "                                      cleaned_review  \n",
      "0  one review mention watch oz episod youll hook ...  \n",
      "1  wonder littl product br / > < br / > film tech...  \n",
      "2  thought wonder way spend time hot summer weeke...  \n",
      "3  basic there famili littl boy jake ) think 's z...  \n",
      "4  petter mattei love time money '' visual stun f...  \n"
     ]
    }
   ],
   "source": [
    "import re\n",
    "import nltk\n",
    "from nltk.corpus import stopwords\n",
    "from nltk.stem import PorterStemmer\n",
    "from nltk.tokenize import word_tokenize\n",
    "\n",
    "# Download NLTK resources\n",
    "nltk.download('punkt')\n",
    "nltk.download('stopwords')\n",
    "nltk.download('punkt_tab')\n",
    "\n",
    "# Initialize stemmer\n",
    "stemmer = PorterStemmer()\n",
    "\n",
    "# Function to clean and preprocess text with progress updates\n",
    "def preprocess_text_with_progress(text, idx, total):\n",
    "    # Clean text\n",
    "    text = re.sub(r'[^a-zA-Z\\s]', '', text, re.I)\n",
    "    text = text.lower()\n",
    "    words = word_tokenize(text)\n",
    "    words = [stemmer.stem(word) for word in words if word not in stopwords.words('english')]\n",
    "    # Print progress\n",
    "    if idx % 1000 == 0:\n",
    "        print(f\"Processing {idx}/{total}...\")  # Show progress every 1000th row\n",
    "    return ' '.join(words)\n",
    "\n",
    "# Apply preprocessing to the 'review' column with progress updates\n",
    "total_rows = len(data)\n",
    "data['cleaned_review'] = [preprocess_text_with_progress(review, idx, total_rows) for idx, review in enumerate(data['review'])]\n",
    "\n",
    "# Display the first few rows of the cleaned data\n",
    "print(data[['review', 'cleaned_review']].head())\n",
    "\n",
    "\n"
   ]
  },
  {
   "cell_type": "markdown",
   "metadata": {},
   "source": [
    "#### Sentiment Analysis"
   ]
  },
  {
   "cell_type": "code",
   "execution_count": 19,
   "metadata": {},
   "outputs": [
    {
     "name": "stdout",
     "output_type": "stream",
     "text": [
      "                                      cleaned_review sentiment\n",
      "0  one review mention watch oz episod youll hook ...  positive\n",
      "1  wonder littl product br / > < br / > film tech...  positive\n",
      "2  thought wonder way spend time hot summer weeke...  positive\n",
      "3  basic there famili littl boy jake ) think 's z...  positive\n",
      "4  petter mattei love time money '' visual stun f...  positive\n"
     ]
    }
   ],
   "source": [
    "from textblob import TextBlob\n",
    "\n",
    "# Function to get sentiment\n",
    "def get_sentiment(text):\n",
    "    analysis = TextBlob(text)\n",
    "    # Classify polarity: Positive if polarity > 0, Negative if polarity <= 0\n",
    "    return 'positive' if analysis.sentiment.polarity > 0 else 'negative'\n",
    "\n",
    "# Apply sentiment analysis\n",
    "data['sentiment'] = data['cleaned_review'].apply(get_sentiment)\n",
    "\n",
    "# Display the first few rows with sentiment\n",
    "print(data[['cleaned_review', 'sentiment']].head())\n"
   ]
  },
  {
   "cell_type": "markdown",
   "metadata": {},
   "source": [
    "#### Visualize"
   ]
  },
  {
   "cell_type": "code",
   "execution_count": 20,
   "metadata": {},
   "outputs": [
    {
     "name": "stderr",
     "output_type": "stream",
     "text": [
      "C:\\Users\\akash\\AppData\\Local\\Temp\\ipykernel_15952\\3572536006.py:6: FutureWarning: \n",
      "\n",
      "Passing `palette` without assigning `hue` is deprecated and will be removed in v0.14.0. Assign the `x` variable to `hue` and set `legend=False` for the same effect.\n",
      "\n",
      "  sns.countplot(x='sentiment', data=data, palette='Set2')\n"
     ]
    },
    {
     "data": {
      "image/png": "[encoded data removed]",
      "text/plain": [
       "<Figure size 800x600 with 1 Axes>"
      ]
     },
     "metadata": {},
     "output_type": "display_data"
    }
   ],
   "source": [
    "import matplotlib.pyplot as plt\n",
    "import seaborn as sns\n",
    "\n",
    "# Plot sentiment distribution\n",
    "plt.figure(figsize=(8, 6))\n",
    "sns.countplot(x='sentiment', data=data, palette='Set2')\n",
    "plt.title('Sentiment Distribution of IMDB Movie Reviews')\n",
    "plt.xlabel('Sentiment')\n",
    "plt.ylabel('Count')\n",
    "plt.show()\n"
   ]
  }
 ],
 "metadata": {
  "kernelspec": {
   "display_name": "Python 3",
   "language": "python",
   "name": "python3"
  },
  "language_info": {
   "codemirror_mode": {
    "name": "ipython",
    "version": 3
   },
   "file_extension": ".py",
   "mimetype": "text/x-python",
   "name": "python",
   "nbconvert_exporter": "python",
   "pygments_lexer": "ipython3",
   "version": "3.13.1"
  }
 },
 "nbformat": 4,
 "nbformat_minor": 2
}
